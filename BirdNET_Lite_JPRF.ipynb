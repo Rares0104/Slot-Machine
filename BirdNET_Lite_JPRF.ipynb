{
  "cells": [
    {
      "cell_type": "markdown",
      "metadata": {
        "id": "view-in-github",
        "colab_type": "text"
      },
      "source": [
        "<a href=\"https://colab.research.google.com/github/Rares0104/Slot-Machine/blob/main/BirdNET_Lite_JPRF.ipynb\" target=\"_parent\"><img src=\"https://colab.research.google.com/assets/colab-badge.svg\" alt=\"Open In Colab\"/></a>"
      ]
    },
    {
      "cell_type": "code",
      "execution_count": 1,
      "metadata": {
        "id": "LfC8zcUAqIAE",
        "outputId": "e7b0ecec-1d94-4eea-8dc9-897fe49ccbb6",
        "colab": {
          "base_uri": "https://localhost:8080/"
        }
      },
      "outputs": [
        {
          "output_type": "stream",
          "name": "stdout",
          "text": [
            "Collecting resampy\n",
            "  Downloading resampy-0.4.3-py3-none-any.whl.metadata (3.0 kB)\n",
            "Requirement already satisfied: numpy>=1.17 in /usr/local/lib/python3.11/dist-packages (from resampy) (2.0.2)\n",
            "Requirement already satisfied: numba>=0.53 in /usr/local/lib/python3.11/dist-packages (from resampy) (0.60.0)\n",
            "Requirement already satisfied: llvmlite<0.44,>=0.43.0dev0 in /usr/local/lib/python3.11/dist-packages (from numba>=0.53->resampy) (0.43.0)\n",
            "Downloading resampy-0.4.3-py3-none-any.whl (3.1 MB)\n",
            "\u001b[2K   \u001b[90m━━━━━━━━━━━━━━━━━━━━━━━━━━━━━━━━━━━━━━━━\u001b[0m \u001b[32m3.1/3.1 MB\u001b[0m \u001b[31m24.9 MB/s\u001b[0m eta \u001b[36m0:00:00\u001b[0m\n",
            "\u001b[?25hInstalling collected packages: resampy\n",
            "Successfully installed resampy-0.4.3\n"
          ]
        }
      ],
      "source": [
        "# basic calculation\n",
        "import os\n",
        "import numpy as np\n",
        "import pandas as pd\n",
        "import matplotlib.pyplot as plt\n",
        "import glob\n",
        "\n",
        "# audio processing\n",
        "from scipy.io import wavfile as wavefile\n",
        "from IPython.display import Audio\n",
        "import subprocess\n",
        "!pip install resampy\n",
        "\n",
        "# data import\n",
        "from google.colab import drive"
      ]
    },
    {
      "cell_type": "code",
      "execution_count": 2,
      "metadata": {
        "id": "JoGVX_3oqz_V",
        "outputId": "3ff9b421-2b3a-4b7e-e3a5-76d2d58685ae",
        "colab": {
          "base_uri": "https://localhost:8080/"
        }
      },
      "outputs": [
        {
          "output_type": "stream",
          "name": "stdout",
          "text": [
            "Mounted at /content/gdrive\n",
            "Cloning into 'BirdNET-Lite'...\n",
            "remote: Enumerating objects: 32, done.\u001b[K\n",
            "remote: Total 32 (delta 0), reused 0 (delta 0), pack-reused 32 (from 2)\u001b[K\n",
            "Receiving objects: 100% (32/32), 58.09 MiB | 29.89 MiB/s, done.\n",
            "Resolving deltas: 100% (8/8), done.\n"
          ]
        }
      ],
      "source": [
        "#get data drive from my google drive\n",
        "drive.mount('/content/gdrive')\n",
        "\n",
        "#git clone BirdNET-Lite\n",
        "!git clone https://github.com/kahst/BirdNET-Lite.git"
      ]
    },
    {
      "cell_type": "code",
      "execution_count": 3,
      "metadata": {
        "id": "L9GfvmJx_zva"
      },
      "outputs": [],
      "source": [
        "#direct to the python working directory\n",
        "os.chdir('/content/BirdNET-Lite')"
      ]
    },
    {
      "cell_type": "code",
      "source": [
        "#\n",
        "# For all .wav files in the whole folder\n",
        "#\n",
        "\n",
        "# Set the path to the WAV directory\n",
        "wav_dir = \"/content/gdrive/MyDrive/BirdNET_WAV/*.wav\"\n",
        "\n",
        "# Set the path to the output directory\n",
        "output_dir = \"/content/gdrive/MyDrive/WAV_output\"\n",
        "\n",
        "# Create the output directory if it doesn't exist\n",
        "if not os.path.exists(output_dir):\n",
        "    os.makedirs(output_dir)\n",
        "\n",
        "# Loop through all the WAV files in the directory\n",
        "for wav_file in glob.glob(wav_dir):\n",
        "    # Get the name of the WAV file without the directory path or file extension\n",
        "    wav_name = os.path.splitext(os.path.basename(wav_file))[0]\n",
        "\n",
        "    # Set the path for the output CSV file\n",
        "    output_file = os.path.join(output_dir, f\"{wav_name}_output.csv\")\n",
        "\n",
        "    # Run the BirdNET analysis on each file\n",
        "    !python3 analyze.py --i \"$wav_file\" --lat 51.3093 --lon -121.7945 --week 18 --o \"BirdNET_output.txt\" --min_conf 0.1\n",
        "\n",
        "    # Read the results into a pandas DataFrame\n",
        "    result = pd.read_table(\"BirdNET_output.txt\", sep=\";\")\n",
        "\n",
        "    # Save the results to a CSV file\n",
        "    result.to_csv(output_file, index=False)\n"
      ],
      "metadata": {
        "id": "5MhZP5ut8xit"
      },
      "execution_count": null,
      "outputs": []
    },
    {
      "cell_type": "code",
      "execution_count": null,
      "metadata": {
        "id": "8bb8huI5Ogrw"
      },
      "outputs": [],
      "source": [
        "#\n",
        "# For single files\n",
        "#\n",
        "\n",
        "!python3 analyze.py --i '../gdrive/MyDrive/WAV/190427_1118_COLO.wav' --lat 51.3093 --lon -121.7945 --week 18 --o 'BirdNET_output.txt' --min_conf 0.1\n",
        "\n",
        "result = pd.read_table('BirdNET_output.txt', sep = ';')"
      ]
    },
    {
      "cell_type": "code",
      "execution_count": null,
      "metadata": {
        "id": "a2U1EsMM9zmg"
      },
      "outputs": [],
      "source": [
        "# parameters to set while running BirdNET-Lite\n",
        "\n",
        "#--i, Path to input file.\n",
        "#--o, Path to output file. Defaults to result.csv.\n",
        "#--lat, Recording location latitude. Set -1 to ignore.\n",
        "#--lon, Recording location longitude. Set -1 to ignore.\n",
        "#--week, Week of the year when the recording was made. Values in [1, 48] (4 weeks per month). Set -1 to ignore.\n",
        "#--overlap, Overlap in seconds between extracted spectrograms. Values in [0.0, 2.9]. Defaults tp 0.0.\n",
        "#--sensitivity, Detection sensitivity; Higher values result in higher sensitivity. Values in [0.5, 1.5]. Defaults to 1.0.\n",
        "#--min_conf, Minimum confidence threshold. Values in [0.01, 0.99]. Defaults to 0.1.\n",
        "#--custom_list, Path to text file containing a list of species. Not used if not provided."
      ]
    },
    {
      "cell_type": "code",
      "source": [
        "from google.colab import drive\n",
        "\n",
        "# Unmount Drive dacă este deja montat\n",
        "drive.flush_and_unmount()\n",
        "\n",
        "# Remount Drive\n",
        "drive.mount('/content/gdrive')\n"
      ],
      "metadata": {
        "id": "CwfdxFWvDX3d"
      },
      "execution_count": null,
      "outputs": []
    }
  ],
  "metadata": {
    "colab": {
      "provenance": [],
      "include_colab_link": true
    },
    "kernelspec": {
      "display_name": "Python 3",
      "name": "python3"
    },
    "language_info": {
      "name": "python"
    }
  },
  "nbformat": 4,
  "nbformat_minor": 0
}